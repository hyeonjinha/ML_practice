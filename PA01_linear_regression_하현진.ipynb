{
  "nbformat": 4,
  "nbformat_minor": 0,
  "metadata": {
    "colab": {
      "provenance": [],
      "authorship_tag": "ABX9TyOa/eKG7P28iyWXWBV5lnK7",
      "include_colab_link": true
    },
    "kernelspec": {
      "name": "python3",
      "display_name": "Python 3"
    },
    "language_info": {
      "name": "python"
    }
  },
  "cells": [
    {
      "cell_type": "markdown",
      "metadata": {
        "id": "view-in-github",
        "colab_type": "text"
      },
      "source": [
        "<a href=\"https://colab.research.google.com/github/hyeonjinha/ML_practice/blob/main/PA01_linear_regression_%ED%95%98%ED%98%84%EC%A7%84.ipynb\" target=\"_parent\"><img src=\"https://colab.research.google.com/assets/colab-badge.svg\" alt=\"Open In Colab\"/></a>"
      ]
    },
    {
      "cell_type": "code",
      "source": [
        "import pandas as pd\n",
        "import numpy as np\n",
        "import matplotlib.pyplot as plt\n",
        "\n",
        "from sklearn.linear_model import LinearRegression, LogisticRegression\n",
        "\n",
        "# 데이터 로드\n",
        "stock_list = pd.read_csv('stock_list.csv', encoding='cp949')\n",
        "stock_values_linear = pd.read_csv('stock_values_linear.csv', encoding='cp949')\n",
        "stock_values_logistic = pd.read_csv('stock_values_logistic.csv', encoding='cp949')\n",
        "\n",
        "# 주식 3개 선택\n",
        "selected_stocks = stock_values_linear.sample(3)"
      ],
      "metadata": {
        "id": "E16UdfYBjZ5F"
      },
      "execution_count": null,
      "outputs": []
    },
    {
      "cell_type": "code",
      "source": [
        "# 모델 학습 및 예측\n",
        "for i in range(3):\n",
        "    selected_row = selected_stocks.iloc[i]\n",
        "    prices = selected_row[1:].values  # 첫 번째 열은 종목 이름이므로 제외합니다.\n",
        "    weeks = np.arange(len(prices)).reshape(-1, 1)  # 주차 정보를 생성합니다.\n",
        "\n",
        "    # 선형 회귀 모델 생성 및 학습\n",
        "    model = LinearRegression()\n",
        "    model.fit(weeks, prices)\n",
        "\n",
        "    # 다음 5일의 종가 예측\n",
        "    next_weeks = np.arange(len(weeks), len(weeks) + 5).reshape(-1, 1)\n",
        "    predictions = model.predict(next_weeks)\n",
        "\n",
        "    # 예측 결과 출력\n",
        "    print(f\"종목 {selected_row[0]}의 다음 주 예측 종가:\")\n",
        "    for i, pred in enumerate(predictions):\n",
        "        print(f\"Day {i+1}: {pred:.2f}\")\n",
        "\n",
        "    # 그래프로 결과 시각화\n",
        "    plt.scatter(weeks, prices, label='Actual Prices')\n",
        "    plt.plot(np.arange(len(weeks) + 5), model.predict(np.arange(len(weeks) + 5).reshape(-1, 1)), label='Regression Line')\n",
        "    plt.title(f\"{selected_row[0]} Price Prediction\")\n",
        "    plt.xlabel('Days')\n",
        "    plt.ylabel('Price')\n",
        "    plt.legend()\n",
        "    plt.show()\n"
      ],
      "metadata": {
        "id": "F9_4U7_llrq1"
      },
      "execution_count": null,
      "outputs": []
    },
    {
      "cell_type": "code",
      "execution_count": null,
      "metadata": {
        "id": "feFawRDYnTfB"
      },
      "outputs": [],
      "source": [
        "# 선형 회귀 모델 학습 및 예측\n",
        "for i in range(3):\n",
        "    selected_row = selected_stocks.iloc[i]\n",
        "    whole_week = []\n",
        "    for i in range(1, len(selected_row),5):\n",
        "        cur_week = selected_row[i:i + 5]\n",
        "        whole_week.append(cur_week)\n",
        "    whole_week = np.array(whole_week)\n",
        "    col = ['Monday', 'Tuesday', 'Wednesday', 'Thursday', 'Friday']\n",
        "\n",
        "    whole_week = pd.DataFrame(whole_week, columns=col)\n",
        "\n",
        "    whole_week['Week'] = np.arange(len(whole_week))\n",
        "    X = whole_week['Week'].values.reshape(-1, 1)\n",
        "\n",
        "    predictions = {}\n",
        "    for day in ['Monday', 'Tuesday', 'Wednesday', 'Thursday', 'Friday']:\n",
        "        y = whole_week[day].values\n",
        "        model = LinearRegression()\n",
        "        model.fit(X, y)  # X와 y를 사용하여 모델을 학습시킵니다.\n",
        "        next_week = len(whole_week)  # 다음 주의 인덱스를 계산합니다.\n",
        "        predictions[day] = model.predict([[next_week]])  # 다음 주의 종가를 예측합니다.\n",
        "\n",
        "    # 예측 결과를 출력합니다.\n",
        "    print(f\"종목 {selected_row[0]}의 다음 주 예측 종가:\")\n",
        "    for day, pred in predictions.items():\n",
        "        print(f\"{day}: {pred[0]:.2f}\")  # 예측된 종가를 소수점 둘째 자리까지 표시합니다.\n",
        "\n",
        "    # subplots를 사용하여 그래프의 배열과 크기를 설정합니다.\n",
        "    fig, axes = plt.subplots(nrows=1, ncols=5, figsize=(15, 3))  # 5개의 그래프를 한 줄에 표시\n",
        "    for j, day in enumerate(col):\n",
        "        y = whole_week[day].values\n",
        "        axes[j].scatter(X, y, label=f'{day} Prices')  # 산점도를 그립니다.\n",
        "        axes[j].plot(X, model.predict(X), label=f'{day} Regression Line')  # 선형 회귀선을 그립니다.\n",
        "        axes[j].set_title(f'{day} Prices')  # 각 그래프의 제목을 설정합니다.\n",
        "        axes[j].set_xlabel('Week')\n",
        "        axes[j].set_ylabel('Price')\n",
        "        axes[j].legend()\n",
        "\n",
        "    plt.tight_layout()  # 그래프들 사이의 간격을 조정합니다.\n",
        "    plt.show()  # 그래프를 화면에 표시합니다.\n"
      ]
    }
  ]
}